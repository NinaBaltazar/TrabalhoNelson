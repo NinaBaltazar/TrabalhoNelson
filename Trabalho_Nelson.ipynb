{
 "cells": [
  {
   "cell_type": "markdown",
   "id": "520a4ba2",
   "metadata": {},
   "source": [
    "<h1>A4 - ANALISE DE BIG DATA - Nelson</h1>"
   ]
  },
  {
   "cell_type": "markdown",
   "id": "d91583c6",
   "metadata": {},
   "source": [
    "<p>Integrantes:\n",
    "    <br>\n",
    "    <br>\n",
    "        Pedro Leite Veneno: 1220101460<br>\n",
    "        Nina Felippe Baltazar: 1220107728<br>\n",
    "        Vallesca Santos Nunes: 1220201858</p>"
   ]
  },
  {
   "cell_type": "markdown",
   "id": "e6ce8842",
   "metadata": {},
   "source": [
    "<p>Referência do Dataset: </p> <a href=\"https://www.kaggle.com/datasets/meeratif/spotify-top-artists-by-monthly-listeners\">DataSet</a></p>"
   ]
  },
  {
   "cell_type": "markdown",
   "id": "0f291c81",
   "metadata": {},
   "source": [
    "<p>Primeiro foi importada a biblioteca pandas e logo em seguida foi adicionado ao código o dataset escolhido. Em seguida foi criada uma interação com o usuário para adquirir as informações que serão adicionadas no Dataset e criação de um objeto.\n",
    "</p>"
   ]
  },
  {
   "cell_type": "code",
   "execution_count": 30,
   "id": "28a9fbf9",
   "metadata": {},
   "outputs": [
    {
     "name": "stdout",
     "output_type": "stream",
     "text": [
      "Digite o nome do artista: Gabriela Rocha\n",
      "Digite o número de ouvintes mensais: 900,000\n",
      "Digite o país de origem do artista: Brasil\n"
     ]
    }
   ],
   "source": [
    "import pandas as pd\n",
    "#carrega o conjunto de dados\n",
    "df = pd.read_csv(\"listeners.csv\")\n",
    "\n",
    "#Pede aos Usuário as informações que serão inseridas no dataset\n",
    "artist = input(\"Digite o nome do artista: \")\n",
    "monthlyListeners = input(\"Digite o número de ouvintes mensais: \")\n",
    "country = input(\"Digite o país de origem do artista: \")\n",
    "\n",
    "#Monta o objeto que será passado para o dataset \n",
    "\n",
    "newRow = pd.DataFrame({\n",
    "    \"Artist\": [artist],\n",
    "    \"Monthly Listeners\": [monthlyListeners],\n",
    "    \"Country\": [country],\n",
    "})\n",
    "\n",
    "#Concatena as informações recebidas com o dataset\n",
    "update_data = pd.concat([df,newRow],ignore_index =True)"
   ]
  },
  {
   "cell_type": "code",
   "execution_count": 31,
   "id": "e5073aae",
   "metadata": {},
   "outputs": [
    {
     "name": "stdout",
     "output_type": "stream",
     "text": [
      "                 Artist    Listeners Daily Trend    Peak  PkListeners  \\\n",
      "0            The Weeknd  107,592,328    -138,880     1.0  113,034,886   \n",
      "1          Taylor Swift  101,003,302         889     2.0  101,003,302   \n",
      "2            Ed Sheeran   76,475,126     -68,137     2.0   87,934,910   \n",
      "3              Dua Lipa   76,421,916     -71,356     4.0   77,778,397   \n",
      "4             Bad Bunny   76,162,057    -199,052     3.0   83,950,570   \n",
      "...                 ...          ...         ...     ...          ...   \n",
      "2496            Olamide    4,279,241        -415  2384.0    4,301,258   \n",
      "2497  Shalmali Kholgade    4,277,053       6,831  1926.0    4,717,659   \n",
      "2498          La Receta    4,276,935     -22,632  2405.0    4,401,754   \n",
      "2499        Violet Days    4,274,633     -37,993  2029.0    4,974,853   \n",
      "2500     Gabriela Rocha          NaN         NaN     NaN          NaN   \n",
      "\n",
      "     Monthly Listeners Country  \n",
      "0                  NaN     NaN  \n",
      "1                  NaN     NaN  \n",
      "2                  NaN     NaN  \n",
      "3                  NaN     NaN  \n",
      "4                  NaN     NaN  \n",
      "...                ...     ...  \n",
      "2496               NaN     NaN  \n",
      "2497               NaN     NaN  \n",
      "2498               NaN     NaN  \n",
      "2499               NaN     NaN  \n",
      "2500           900,000  Brasil  \n",
      "\n",
      "[2501 rows x 7 columns]\n"
     ]
    }
   ],
   "source": [
    "#Exibe o conjunto de dados atualizado\n",
    "print(update_data)"
   ]
  },
  {
   "cell_type": "markdown",
   "id": "a1b59d7f",
   "metadata": {},
   "source": [
    "<h4>Adicionar Coluna</h4>"
   ]
  },
  {
   "cell_type": "code",
   "execution_count": 32,
   "id": "e32572ed",
   "metadata": {},
   "outputs": [
    {
     "name": "stdout",
     "output_type": "stream",
     "text": [
      "Digite o nome da coluna desejada a ser inserida: Nova Coluna\n"
     ]
    }
   ],
   "source": [
    "#agora vamos adicionar uma coluna\n",
    "\n",
    "newColumn = input(\"Digite o nome da coluna desejada a ser inserida: \")\n",
    "update_data.insert(0, newColumn, 'null',True)"
   ]
  },
  {
   "cell_type": "code",
   "execution_count": 33,
   "id": "e4a16da8",
   "metadata": {},
   "outputs": [
    {
     "name": "stdout",
     "output_type": "stream",
     "text": [
      "     Nova Coluna             Artist    Listeners Daily Trend    Peak  \\\n",
      "0           null         The Weeknd  107,592,328    -138,880     1.0   \n",
      "1           null       Taylor Swift  101,003,302         889     2.0   \n",
      "2           null         Ed Sheeran   76,475,126     -68,137     2.0   \n",
      "3           null           Dua Lipa   76,421,916     -71,356     4.0   \n",
      "4           null          Bad Bunny   76,162,057    -199,052     3.0   \n",
      "...          ...                ...          ...         ...     ...   \n",
      "2496        null            Olamide    4,279,241        -415  2384.0   \n",
      "2497        null  Shalmali Kholgade    4,277,053       6,831  1926.0   \n",
      "2498        null          La Receta    4,276,935     -22,632  2405.0   \n",
      "2499        null        Violet Days    4,274,633     -37,993  2029.0   \n",
      "2500        null     Gabriela Rocha          NaN         NaN     NaN   \n",
      "\n",
      "      PkListeners Monthly Listeners Country  \n",
      "0     113,034,886               NaN     NaN  \n",
      "1     101,003,302               NaN     NaN  \n",
      "2      87,934,910               NaN     NaN  \n",
      "3      77,778,397               NaN     NaN  \n",
      "4      83,950,570               NaN     NaN  \n",
      "...           ...               ...     ...  \n",
      "2496    4,301,258               NaN     NaN  \n",
      "2497    4,717,659               NaN     NaN  \n",
      "2498    4,401,754               NaN     NaN  \n",
      "2499    4,974,853               NaN     NaN  \n",
      "2500          NaN           900,000  Brasil  \n",
      "\n",
      "[2501 rows x 8 columns]\n"
     ]
    }
   ],
   "source": [
    "print(update_data)"
   ]
  },
  {
   "cell_type": "markdown",
   "id": "28a06135",
   "metadata": {},
   "source": [
    "<h4>Deletar Informações Anteriormente Inseridas</h4>"
   ]
  },
  {
   "cell_type": "markdown",
   "id": "c3d3797e",
   "metadata": {},
   "source": [
    "<p>Deletar linha</p>"
   ]
  },
  {
   "cell_type": "code",
   "execution_count": 34,
   "id": "183862b7",
   "metadata": {},
   "outputs": [
    {
     "name": "stdout",
     "output_type": "stream",
     "text": [
      "Digite o numero da linha a ser deletada: 2500\n"
     ]
    }
   ],
   "source": [
    "#agora vamos deletar as informações inseridas anteriormente\n",
    "deleterow = int(input(\"Digite o numero da linha a ser deletada: \"))\n",
    "update_data.drop([deleterow],axis = 0,inplace = True)"
   ]
  },
  {
   "cell_type": "code",
   "execution_count": 35,
   "id": "d5a4749f",
   "metadata": {},
   "outputs": [
    {
     "name": "stdout",
     "output_type": "stream",
     "text": [
      "     Nova Coluna              Artist    Listeners Daily Trend    Peak  \\\n",
      "0           null          The Weeknd  107,592,328    -138,880     1.0   \n",
      "1           null        Taylor Swift  101,003,302         889     2.0   \n",
      "2           null          Ed Sheeran   76,475,126     -68,137     2.0   \n",
      "3           null            Dua Lipa   76,421,916     -71,356     4.0   \n",
      "4           null           Bad Bunny   76,162,057    -199,052     3.0   \n",
      "...          ...                 ...          ...         ...     ...   \n",
      "2495        null  JosÃ© Luis Perales    4,279,952       1,953  2291.0   \n",
      "2496        null             Olamide    4,279,241        -415  2384.0   \n",
      "2497        null   Shalmali Kholgade    4,277,053       6,831  1926.0   \n",
      "2498        null           La Receta    4,276,935     -22,632  2405.0   \n",
      "2499        null         Violet Days    4,274,633     -37,993  2029.0   \n",
      "\n",
      "      PkListeners Monthly Listeners Country  \n",
      "0     113,034,886               NaN     NaN  \n",
      "1     101,003,302               NaN     NaN  \n",
      "2      87,934,910               NaN     NaN  \n",
      "3      77,778,397               NaN     NaN  \n",
      "4      83,950,570               NaN     NaN  \n",
      "...           ...               ...     ...  \n",
      "2495    4,361,097               NaN     NaN  \n",
      "2496    4,301,258               NaN     NaN  \n",
      "2497    4,717,659               NaN     NaN  \n",
      "2498    4,401,754               NaN     NaN  \n",
      "2499    4,974,853               NaN     NaN  \n",
      "\n",
      "[2500 rows x 8 columns]\n"
     ]
    }
   ],
   "source": [
    "print(update_data)"
   ]
  },
  {
   "cell_type": "markdown",
   "id": "133e79df",
   "metadata": {},
   "source": [
    "<p>Deletar coluna</p>"
   ]
  },
  {
   "cell_type": "code",
   "execution_count": 37,
   "id": "2076e702",
   "metadata": {},
   "outputs": [
    {
     "name": "stdout",
     "output_type": "stream",
     "text": [
      "Digite o nome da coluna a ser deletada: Nova Coluna\n"
     ]
    }
   ],
   "source": [
    "#agora vamos deletar colunas\n",
    "deleteColumn = input(\"Digite o nome da coluna a ser deletada: \")\n",
    "update_data.drop(deleteColumn, axis=1, inplace=True)"
   ]
  },
  {
   "cell_type": "code",
   "execution_count": 38,
   "id": "b6d25eb9",
   "metadata": {},
   "outputs": [
    {
     "name": "stdout",
     "output_type": "stream",
     "text": [
      "                  Artist    Listeners Daily Trend    Peak  PkListeners  \\\n",
      "0             The Weeknd  107,592,328    -138,880     1.0  113,034,886   \n",
      "1           Taylor Swift  101,003,302         889     2.0  101,003,302   \n",
      "2             Ed Sheeran   76,475,126     -68,137     2.0   87,934,910   \n",
      "3               Dua Lipa   76,421,916     -71,356     4.0   77,778,397   \n",
      "4              Bad Bunny   76,162,057    -199,052     3.0   83,950,570   \n",
      "...                  ...          ...         ...     ...          ...   \n",
      "2495  JosÃ© Luis Perales    4,279,952       1,953  2291.0    4,361,097   \n",
      "2496             Olamide    4,279,241        -415  2384.0    4,301,258   \n",
      "2497   Shalmali Kholgade    4,277,053       6,831  1926.0    4,717,659   \n",
      "2498           La Receta    4,276,935     -22,632  2405.0    4,401,754   \n",
      "2499         Violet Days    4,274,633     -37,993  2029.0    4,974,853   \n",
      "\n",
      "     Monthly Listeners Country  \n",
      "0                  NaN     NaN  \n",
      "1                  NaN     NaN  \n",
      "2                  NaN     NaN  \n",
      "3                  NaN     NaN  \n",
      "4                  NaN     NaN  \n",
      "...                ...     ...  \n",
      "2495               NaN     NaN  \n",
      "2496               NaN     NaN  \n",
      "2497               NaN     NaN  \n",
      "2498               NaN     NaN  \n",
      "2499               NaN     NaN  \n",
      "\n",
      "[2500 rows x 7 columns]\n"
     ]
    }
   ],
   "source": [
    "print(update_data)"
   ]
  },
  {
   "cell_type": "markdown",
   "id": "eca522d2",
   "metadata": {},
   "source": [
    "<h4>Filtragem de Dados</h4>"
   ]
  },
  {
   "cell_type": "code",
   "execution_count": 42,
   "id": "334a994f",
   "metadata": {},
   "outputs": [
    {
     "name": "stdout",
     "output_type": "stream",
     "text": [
      "Digite o nome do artista para ter informações sobre o mesmo: Taylor Swift\n"
     ]
    }
   ],
   "source": [
    "#agora vamos fazer uma filtragem\n",
    "artist_filter = input(\"Digite o nome do artista para ter informações sobre o mesmo: \")\n",
    "filtering = update_data[(update_data[\"Artist\"] == artist_filter)]"
   ]
  },
  {
   "cell_type": "code",
   "execution_count": 43,
   "id": "7f50f62b",
   "metadata": {},
   "outputs": [
    {
     "name": "stdout",
     "output_type": "stream",
     "text": [
      "         Artist    Listeners Daily Trend  Peak  PkListeners Monthly Listeners  \\\n",
      "1  Taylor Swift  101,003,302         889   2.0  101,003,302               NaN   \n",
      "\n",
      "  Country  \n",
      "1     NaN  \n"
     ]
    }
   ],
   "source": [
    "print(filtering)"
   ]
  },
  {
   "cell_type": "markdown",
   "id": "2a2b55c5",
   "metadata": {},
   "source": [
    "<h4>Cálculo de indicadores</h4>"
   ]
  },
  {
   "cell_type": "code",
   "execution_count": 74,
   "id": "f9c32a18",
   "metadata": {},
   "outputs": [
    {
     "name": "stdout",
     "output_type": "stream",
     "text": [
      "numero medio de ouvintes do aplicativo por mes: 11118363.68\n"
     ]
    }
   ],
   "source": [
    "import numpy as np\n",
    "dataS = update_data[\"Listeners\"].astype(str)\n",
    "text = dataS.str.replace(\",\",\"\")\n",
    "num = [int(i) for i in text]\n",
    "#media calcular\n",
    "media = sum(num)/len(num)\n",
    "#replace valores\n",
    "print(\"numero medio de ouvintes do aplicativo por mes: {}\".format(media))"
   ]
  },
  {
   "cell_type": "markdown",
   "id": "f1111b57",
   "metadata": {},
   "source": [
    "<h4>Análise de distribuição e amostras ou items</h4>"
   ]
  },
  {
   "cell_type": "code",
   "execution_count": 92,
   "id": "0e67e263",
   "metadata": {},
   "outputs": [
    {
     "data": {
      "image/png": "[encoded data removed]",
      "text/plain": [
       "<Figure size 640x440 with 1 Axes>"
      ]
     },
     "metadata": {},
     "output_type": "display_data"
    }
   ],
   "source": [
    "import matplotlib.pyplot as plt\n",
    "# Filtra os dados para os cinco artistas com mais ouvintes\n",
    "filter7 = df.sort_values(by=\"Listeners\", ascending=False).head(5)\n",
    "\n",
    "# Cria um eixo x com os nomes dos artistas\n",
    "x = filter7[\"Artist\"]\n",
    "\n",
    "# Cria um eixo y com o número de ouvintes\n",
    "y = filter7[\"Listeners\"]\n",
    "\n",
    "# Cria o título do diagrama\n",
    "plt.title(\"Comparação de ouvintes de artistas\")\n",
    "\n",
    "# Cria a legenda\n",
    "plt.legend([\"Ouvintes\"], loc=\"upper left\")\n",
    "\n",
    "# Cria o diagrama de barras\n",
    "plt.bar(x, y)\n",
    "plt.xlabel(\"Artista\")\n",
    "plt.ylabel(\"Ouvintes\")\n",
    "plt.show()"
   ]
  },
  {
   "cell_type": "markdown",
   "id": "710c7514",
   "metadata": {},
   "source": [
    "<h4>Gráfico</h4>"
   ]
  },
  {
   "cell_type": "code",
   "execution_count": 101,
   "id": "3b4187af",
   "metadata": {},
   "outputs": [
    {
     "data": {
      "image/png": "[encoded data removed]",
      "text/plain": [
       "<Figure size 1000x600 with 1 Axes>"
      ]
     },
     "metadata": {},
     "output_type": "display_data"
    }
   ],
   "source": [
    "import matplotlib.pyplot as plt\n",
    "\n",
    "import pandas as pd\n",
    "\n",
    "df = pd.DataFrame({\n",
    "    \"Artist\": [\"The Weeknd\", \"Taylor Swift\", \"Ed Sheeran\", \"Dua Lipa\", \"Bad Bunny\"],\n",
    "    \"Listeners Daily Trend\": [-138880, 889, -68137, -71356, -199052],\n",
    "    \"Peak\": [1.0, 2.0, 2.0, 4.0, 3.0],\n",
    "    \"PkListeners\": [113034886, 101003302, 87934910, 77778397, 83950570]\n",
    "})\n",
    "\n",
    "plt.figure(figsize=(10, 6))\n",
    "\n",
    "plt.bar(df[\"Artist\"], df[\"Listeners Daily Trend\"])\n",
    "plt.xlabel(\"Artista\")\n",
    "plt.ylabel(\"Trend Diária\")\n",
    "plt.title(\"Trend Diária de Artistas\")\n",
    "\n",
    "plt.xticks(rotation=45)\n",
    "plt.tight_layout()\n",
    "\n",
    "plt.show()\n"
   ]
  }
 ],
 "metadata": {
  "kernelspec": {
   "display_name": "Python 3 (ipykernel)",
   "language": "python",
   "name": "python3"
  },
  "language_info": {
   "codemirror_mode": {
    "name": "ipython",
    "version": 3
   },
   "file_extension": ".py",
   "mimetype": "text/x-python",
   "name": "python",
   "nbconvert_exporter": "python",
   "pygments_lexer": "ipython3",
   "version": "3.11.4"
  }
 },
 "nbformat": 4,
 "nbformat_minor": 5
}
